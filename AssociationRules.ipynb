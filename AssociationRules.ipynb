{
 "metadata": {
  "name": ""
 },
 "nbformat": 3,
 "nbformat_minor": 0,
 "worksheets": [
  {
   "cells": [
    {
     "cell_type": "code",
     "collapsed": false,
     "input": [
      "import numpy as np\n",
      "import scipy as sp\n",
      "import pandas as pd"
     ],
     "language": "python",
     "metadata": {},
     "outputs": []
    },
    {
     "cell_type": "code",
     "collapsed": false,
     "input": [
      "test = '(dex,psru,drow)'.replace('(', '').replace(')', '').split(',')\n",
      "print(test)"
     ],
     "language": "python",
     "metadata": {},
     "outputs": []
    },
    {
     "cell_type": "code",
     "collapsed": false,
     "input": [
      "tcFile = open('results/tweetCount.csv', 'r')\n",
      "ucFile = open('results/userCount.csv', 'r')\n",
      "\n",
      "tweetCountString = tcFile.read()\n",
      "tweetCount = float(tweetCountString)\n",
      "userCountString = ucFile.read()\n",
      "userCount = float(userCountString)\n",
      "\n",
      "tcFile.close()\n",
      "ucFile.close()\n",
      "\n",
      "DrugCount = pd.read_csv('results/DrugCount.csv', names=['set', 'count'] )\n",
      "SymptomCount = pd.read_csv('results/SymptomCount.csv', names=['set', 'count'])\n",
      "\n",
      "coDrugCount = pd.read_csv('results/coDrugCount.csv', names= ['set', 'count'])\n",
      "drugOne = pd.Series([drugStr.replace('(', '').replace(')', '').split(',')[0] for drugStr in coDrugCount['set']], index = coDrugCount.index, name='drug1')\n",
      "drugTwo = pd.Series([drugStr.replace('(', '').replace(')', '').split(',')[1] for drugStr in coDrugCount['set']], index = coDrugCount.index, name='drug1')\n",
      "coDrugCount['drug1'] = drugOne\n",
      "coDrugCount['drug2'] = drugTwo\n",
      "\n",
      "coDrugSymptomCount = pd.read_csv('results/coDrugSymptomCount.csv', names=['set', 'count'])\n",
      "drug = pd.Series([drugStr.replace('(', '').replace(')', '').split(',')[0] for drugStr in coDrugSymptomCount['set']], index = coDrugSymptomCount.index, name='drug')\n",
      "symptom =  pd.Series([drugStr.replace('(', '').replace(')', '').split(',')[1] for drugStr in coDrugSymptomCount['set']], index = coDrugSymptomCount.index, name='drug')\n",
      "coDrugSymptomCount['drug'] = drug\n",
      "coDrugSymptomCount['symptom'] = symptom\n",
      "\n",
      "coCoDrugSymptomCount = pd.read_csv('results/coCoDrugSymptomCount.csv', names=['set', 'count'])\n",
      "drug1 = pd.Series([drugStr.replace('(', '').replace(')', '').split(',')[0] for drugStr in coCoDrugSymptomCount['set']], index = coCoDrugSymptomCount.index, name='drug')\n",
      "drug2 = pd.Series([drugStr.replace('(', '').replace(')', '').split(',')[1] for drugStr in coCoDrugSymptomCount['set']], index = coCoDrugSymptomCount.index, name='drug')\n",
      "symptom = pd.Series([drugStr.replace('(', '').replace(')', '').split(',')[2] for drugStr in coCoDrugSymptomCount['set']], index = coCoDrugSymptomCount.index, name='drug')\n",
      "coCoDrugSymptomCount['drug1'] = drug1\n",
      "coCoDrugSymptomCount['drug2'] = drug2\n",
      "coCoDrugSymptomCount['symptom'] = symptom\n",
      "\n",
      "print(coCoDrugSymptomCount)"
     ],
     "language": "python",
     "metadata": {},
     "outputs": []
    },
    {
     "cell_type": "code",
     "collapsed": false,
     "input": [
      "figsize(6,5)\n",
      "titleSize= 15\n",
      "labelSize= 14\n",
      "figure()\n",
      "hist(DrugCount['count'])\n",
      "title('Frequencies of Drug Mentions', size=titleSize)\n",
      "xlabel('Drug Mention', size=labelSize)\n",
      "ylabel('Count of Users', size=labelSize)\n",
      "savefig('figures/DrugCount.pdf')\n",
      "figure()\n",
      "hist(SymptomCount['count'])\n",
      "title('Frequencies of Symptom Mentions', size=titleSize)\n",
      "xlabel('Symptom Mention', size=labelSize)\n",
      "ylabel('Count of Users', size=labelSize)\n",
      "savefig('figures/SymptomCount.pdf')\n",
      "figure()\n",
      "hist(coDrugCount['count'])\n",
      "title('Frequencies of Co-Drug Mentions', size=titleSize)\n",
      "xlabel('Co-Drug Mention', size=labelSize)\n",
      "ylabel('Count of Users', size=labelSize)\n",
      "savefig('figures/coDrugCount.pdf')\n",
      "figure()\n",
      "hist(coDrugSymptomCount['count'])\n",
      "title('Frequencies of co-Drug-Symptom Mentions', size=titleSize)\n",
      "xlabel('Drug-Symptom Mention', size=labelSize)\n",
      "ylabel('Count of Users', size=labelSize)\n",
      "savefig('figures/coDrugSymptomCount.pdf')\n",
      "figure()\n",
      "hist(coCoDrugSymptomCount['count'])\n",
      "title('Frequencies of co-Drug-Drug-Symptom Mentions', size=titleSize)\n",
      "xlabel('Drug-Drug-Symptom Mention', size=labelSize)\n",
      "ylabel('Count of Users', size=labelSize)\n",
      "savefig('figures/coCoDrugSymptomCount.pdf')\n"
     ],
     "language": "python",
     "metadata": {},
     "outputs": []
    },
    {
     "cell_type": "code",
     "collapsed": false,
     "input": [
      "DataFrames = [DrugCount, SymptomCount, coDrugCount, coDrugSymptomCount, coCoDrugSymptomCount]\n",
      "for DF in DataFrames:\n",
      "    DC = DF.sort_index(by='count', ascending=False)\n",
      "    top = DC.ix[DC.index[:20],:]\n",
      "    for row in top.index:\n",
      "        print(top.ix[row,'set'] + ' & ' + str(top.ix[row, 'count']) + '\\\\\\\\')\n",
      "    print('\\n')"
     ],
     "language": "python",
     "metadata": {},
     "outputs": []
    },
    {
     "cell_type": "code",
     "collapsed": false,
     "input": [
      "supports = {}\n",
      "DataFrames = [DrugCount, SymptomCount, coDrugCount, coDrugSymptomCount, coCoDrugSymptomCount]"
     ],
     "language": "python",
     "metadata": {},
     "outputs": []
    },
    {
     "cell_type": "code",
     "collapsed": false,
     "input": [
      "\n",
      "    "
     ],
     "language": "python",
     "metadata": {},
     "outputs": []
    },
    {
     "cell_type": "code",
     "collapsed": false,
     "input": [
      "for DF in DataFrames:\n",
      "    for rowi in DF.index:\n",
      "        dset = DF.ix[rowi, 'set']\n",
      "        #sets.append(dset)\n",
      "        #supports.append(DF.ix[rowi, 'count']/userCount)\n",
      "        supports[dset] = DF.ix[rowi, 'count']/userCount "
     ],
     "language": "python",
     "metadata": {},
     "outputs": []
    },
    {
     "cell_type": "code",
     "collapsed": false,
     "input": [
      "drugSymptomRules = []\n",
      "dsRuleConfs = []\n",
      "dsRuleLifts = []\n",
      "dsRuleConf = {}\n",
      "dsRuleLift = {}\n",
      "for rowi in coDrugSymptomCount.index:\n",
      "    drugSymptom = coDrugSymptomCount.ix[rowi, 'set']\n",
      "    symptom = coDrugSymptomCount.ix[rowi, 'symptom']\n",
      "    drug = coDrugSymptomCount.ix[rowi, 'drug']\n",
      "    drugSymptomRule = drug + '=>'+symptom\n",
      "    \n",
      "    conf = supports[drugSymptom]/supports[drug]\n",
      "    lift = supports[drugSymptom]/(supports[drug] * supports[symptom])\n",
      "    drugSymptomRules.append(drugSymptomRule)\n",
      "    dsRuleConfs.append(conf)\n",
      "    dsRuleLifts.append(lift)\n",
      "    dsRuleConf[drugSymptomRule] =conf\n",
      "    dsRuleLift[drugSymptomRule] =lift"
     ],
     "language": "python",
     "metadata": {},
     "outputs": []
    },
    {
     "cell_type": "code",
     "collapsed": false,
     "input": [
      "doubleRules = []\n",
      "dbRuleConfs = []\n",
      "dbRuleLifts = []\n",
      "drugDrugSupports = []\n",
      "dbSupports = []\n",
      "for rowi in coCoDrugSymptomCount.index:\n",
      "    dSet = coCoDrugSymptomCount.ix[rowi, 'set']\n",
      "    drug1 = coCoDrugSymptomCount.ix[rowi, 'drug1']\n",
      "    drug2 = coCoDrugSymptomCount.ix[rowi, 'drug2']\n",
      "    symptom = coCoDrugSymptomCount.ix[rowi, 'symptom']\n",
      "    drugSymptomRule1 = drug1 + '=>'+symptom\n",
      "    drugSymptomRule2 = drug2 + '=>'+symptom\n",
      "    \n",
      "    drugSymptomSet1 = '('+drug1+','+symptom+')'\n",
      "    drugSymptomSet2 = '('+drug2+','+symptom+')'\n",
      "    drugDrugSupports.append(supports['('+drug1+','+drug2+')'])\n",
      "    drugDrugSupports.append(supports['('+drug1+','+drug2+')'])\n",
      "    dbSupports.append(supports[dSet])\n",
      "    dbSupports.append(supports[dSet])\n",
      "                               \n",
      "    doubleRules.append(drugSymptomSet1+'=>'+drugSymptomSet2)\n",
      "    doubleRules.append(drugSymptomSet2+'=>'+drugSymptomSet1)\n",
      "    dbRuleConfs.append(supports[dSet]/supports[drugSymptomSet1])\n",
      "    dbRuleConfs.append(supports[dSet]/supports[drugSymptomSet2])\n",
      "    dbRuleLifts.append(supports[dSet]/(supports[drugSymptomSet1] * supports[drugSymptomSet2]))\n",
      "    dbRuleLifts.append(supports[dSet]/(supports[drugSymptomSet1] * supports[drugSymptomSet2]))\n",
      "\n",
      "    "
     ],
     "language": "python",
     "metadata": {},
     "outputs": []
    },
    {
     "cell_type": "code",
     "collapsed": false,
     "input": [
      "dbRuleDF = pd.DataFrame({'rule':doubleRules, 'conf':dbRuleConfs, 'lift':dbRuleLifts, 'dbSupp':dbSupports, 'dDSupp':drugDrugSupports})\n",
      "dbRuleDF.sort_index(by='dbSupp', ascending=False).to_csv('results/DoubleDrugSymptomRules.csv')\n",
      "print(dbRuleDF.sort_index(by='dbSupp', ascending=False))\n"
     ],
     "language": "python",
     "metadata": {},
     "outputs": []
    },
    {
     "cell_type": "code",
     "collapsed": false,
     "input": [
      "dsRuleDF = pd.DataFrame({'rule':drugSymptomRules, 'conf': dsRuleConfs, 'lift': dsRuleLifts})\n",
      "#print(dsRuleDF.sort_index(by='lift', ascending=False))\n",
      "#print(supports['disturbance'])"
     ],
     "language": "python",
     "metadata": {},
     "outputs": []
    }
   ],
   "metadata": {}
  }
 ]
}